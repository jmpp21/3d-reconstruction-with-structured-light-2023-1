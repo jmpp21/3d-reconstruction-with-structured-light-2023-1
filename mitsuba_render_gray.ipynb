{
 "cells": [
  {
   "cell_type": "code",
   "execution_count": 3,
   "metadata": {},
   "outputs": [],
   "source": [
    "import mitsuba as mi\n",
    "import drjit as dr\n",
    "import os\n",
    "import matplotlib.pyplot as plt\n",
    "from PIL import Image\n",
    "import numpy as np\n",
    "import random \n",
    "import imageio\n",
    "import cv2"
   ]
  },
  {
   "cell_type": "code",
   "execution_count": 4,
   "metadata": {},
   "outputs": [],
   "source": [
    "scene_path = os.path.join('', 'scenes') \n",
    "results_spatio_path = os.path.join('','results_spatio') \n",
    "mi.set_variant('scalar_rgb')\n",
    "texture_path = os.path.join(scene_path,'textures')\n",
    "\n",
    "tokki = os.path.join(scene_path,'meshes/bunny.ply')\n"
   ]
  },
  {
   "cell_type": "code",
   "execution_count": 7,
   "metadata": {},
   "outputs": [],
   "source": [
    "import cgi, os\n",
    "files = os.listdir('dir/graycode_pattern/')\n",
    "\n",
    "for f in files:\n",
    "    s = \"dir/graycode_pattern/\"\n",
    "    s = s + f\n",
    "    scene1 = mi.load_dict({\n",
    "        'type':'scene',\n",
    "        'integrator': {'type': 'direct'},\n",
    "        'light': {\n",
    "            'type': 'projector',\n",
    "            'irradiance': {\n",
    "                'type': 'bitmap',\n",
    "                'filename': s,\n",
    "            },\n",
    "            'fov': 45,\n",
    "            'to_world': mi.ScalarTransform4f.look_at(\n",
    "                origin=[0, 0, -0.9],\n",
    "                target=[0, 1, -15],\n",
    "                up=[0, 0, 1]\n",
    "            )\n",
    "            },\n",
    "        'tok':{\n",
    "            'type': 'ply',\n",
    "            'filename': tokki,\n",
    "            'to_world': mi.ScalarTransform4f.translate([0, 0, -1.3]),\n",
    "            'bsdf': {\n",
    "                'type': 'diffuse',\n",
    "                'reflectance': {'type': 'rgb', 'value': [0.1, 0.2, 0.3]},\n",
    "            }\n",
    "        }\n",
    "    })\n",
    "    cam1 = mi.load_dict({\n",
    "        'type': 'perspective',\n",
    "        'fov': 45, #24.6 mm\n",
    "        'to_world': mi.ScalarTransform4f.look_at(\n",
    "            origin=[0, 0, -1.1],\n",
    "            target=[0, 1, -15],\n",
    "            up=[0, 0, 1]\n",
    "        ),\n",
    "        'film2': {\n",
    "            'type': 'hdrfilm',\n",
    "            'width': 360,\n",
    "            'height': 360,\n",
    "        }\n",
    "        # 'distortion': [0, 0, 0, 0, 0]\n",
    "    })\n",
    "    image = mi.render(scene=scene1, sensor=cam1, spp=64)\n",
    "    image = np.clip(image * 255, 0, 255).astype(np.uint8)\n",
    "    st = \"./results/result_\" + f\n",
    "    # Save the image as a PNG file using imageio\n",
    "    imageio.imwrite(st, image)\n"
   ]
  },
  {
   "cell_type": "code",
   "execution_count": null,
   "metadata": {},
   "outputs": [],
   "source": []
  }
 ],
 "metadata": {
  "kernelspec": {
   "display_name": "main",
   "language": "python",
   "name": "python3"
  },
  "language_info": {
   "codemirror_mode": {
    "name": "ipython",
    "version": 3
   },
   "file_extension": ".py",
   "mimetype": "text/x-python",
   "name": "python",
   "nbconvert_exporter": "python",
   "pygments_lexer": "ipython3",
   "version": "3.9.16"
  },
  "orig_nbformat": 4
 },
 "nbformat": 4,
 "nbformat_minor": 2
}
