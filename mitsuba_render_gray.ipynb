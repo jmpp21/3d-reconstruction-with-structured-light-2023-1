{
 "cells": [
  {
   "cell_type": "code",
   "execution_count": 1,
   "metadata": {},
   "outputs": [],
   "source": [
    "import mitsuba as mi\n",
    "import drjit as dr\n",
    "import os\n",
    "import matplotlib.pyplot as plt\n",
    "from PIL import Image\n",
    "import numpy as np\n",
    "import random \n",
    "import imageio\n",
    "import cv2\n",
    "import numpy as np"
   ]
  },
  {
   "cell_type": "code",
   "execution_count": 6,
   "metadata": {},
   "outputs": [],
   "source": [
    "scene_path = os.path.join('', 'scenes') \n",
    "results_spatio_path = os.path.join('','results_spatio') \n",
    "mi.set_variant('scalar_rgb')\n",
    "texture_path = os.path.join(scene_path,'textures')\n",
    "\n",
    "tokki = os.path.join(scene_path,'meshes/bunny.ply')\n"
   ]
  },
  {
   "cell_type": "code",
   "execution_count": 11,
   "metadata": {},
   "outputs": [],
   "source": [
    "cam1 = mi.load_dict({\n",
    "'type': 'perspective',\n",
    "'fov': 45, #24.6 mm\n",
    "'to_world': mi.ScalarTransform4f.look_at(\n",
    "    origin=[0.03, 0, -0.7],  # increase the z-coordinate to move the camera farther away\n",
    "    target=[0.03, 1, -15],\n",
    "    up=[0, 0, 1]\n",
    "),\n",
    "'film2': {\n",
    "    'type': 'hdrfilm',\n",
    "    'width': 360,\n",
    "    'height': 360,\n",
    "}\n",
    "# 'distortion': [0, 0, 0, 0, 0]\n",
    "})"
   ]
  },
  {
   "cell_type": "code",
   "execution_count": 12,
   "metadata": {},
   "outputs": [],
   "source": [
    "import cgi, os\n",
    "files = os.listdir('dir/graycode_pattern/')\n",
    "\n",
    "for f in files:\n",
    "    s = \"dir/graycode_pattern/\"\n",
    "    s = s + f\n",
    "    scene1 = mi.load_dict({\n",
    "        'type':'scene',\n",
    "        'integrator': {'type': 'direct'},\n",
    "        'light': {\n",
    "            'type': 'projector',\n",
    "            'irradiance': {\n",
    "                'type': 'bitmap',\n",
    "                'filename': s, \n",
    "            },\n",
    "            'fov': 45,\n",
    "            'to_world': mi.ScalarTransform4f.look_at(\n",
    "                origin=[-0.03, 0.1, -0.7],\n",
    "                target=[-0.03, -0.1, -15],\n",
    "                up=[0, 0, 1]\n",
    "            )\n",
    "            },\n",
    "        'tok':{\n",
    "            'type': 'ply',\n",
    "            'filename': tokki,\n",
    "            'to_world': mi.ScalarTransform4f.translate([0, 0, -1]),\n",
    "            'bsdf': {\n",
    "                'type': 'diffuse',\n",
    "                'reflectance': {'type': 'rgb', 'value': [0.1, 0.2, 0.3]},\n",
    "            }\n",
    "        }\n",
    "    })\n",
    "\n",
    "    image = mi.render(scene=scene1, sensor=cam1, spp=64)\n",
    "    image = np.clip(image * 1000, 0, 1000).astype(np.uint8)\n",
    "    st = \"./results/resultfar_\" + f\n",
    "    # Save the image as a PNG file using imageio\n",
    "    imageio.imwrite(st, image)\n"
   ]
  },
  {
   "cell_type": "code",
   "execution_count": 8,
   "metadata": {},
   "outputs": [
    {
     "data": {
      "text/plain": [
       "array([[ 50,   0, 180],\n",
       "       [  0,  50, 180],\n",
       "       [  0,   0,   1]])"
      ]
     },
     "execution_count": 8,
     "metadata": {},
     "output_type": "execute_result"
    }
   ],
   "source": [
    "import numpy as np\n",
    "from math import tan, radians\n",
    "\n",
    "# Define the field of view in degrees\n",
    "FOV = 45.0\n",
    "\n",
    "# Define the focal length in mm\n",
    "focal_length = 50.0\n",
    "\n",
    "# Define the image resolution\n",
    "image_size = (360, 360)  # width, height in pixels\n",
    "\n",
    "# Calculate the sensor size from the FOV and focal length\n",
    "sensor_size = (image_size[0] / 2.0) / tan(radians(FOV) / 2.0), (image_size[1] / 2.0) / tan(radians(FOV) / 2.0)\n",
    "\n",
    "# Calculate the horizontal and vertical pixel sizes\n",
    "pixel_size = (sensor_size[0] / image_size[0], sensor_size[1] / image_size[1])\n",
    "\n",
    "# Calculate the scaling factors for the focal length\n",
    "fx = focal_length / pixel_size[0]\n",
    "fy = focal_length / pixel_size[1]\n",
    "\n",
    "# Define the principal point at the center of the image\n",
    "cx = image_size[0] / 2.0\n",
    "cy = image_size[1] / 2.0\n",
    "\n",
    "# Construct the camera intrinsic matrix\n",
    "cam_int = np.array([[fx, 0.0, cx],\n",
    "                    [0.0, fy, cy],\n",
    "                    [0.0, 0.0, 1.0]])\n",
    "f_x = 50\n",
    "f_y = 50\n",
    "c_x = 180\n",
    "c_y = 180\n",
    "\n",
    "cam_int = np.array([[f_x, 0, c_x],\n",
    "              [0, f_y, c_y],\n",
    "              [0, 0, 1]])\n",
    "cam_int"
   ]
  },
  {
   "cell_type": "code",
   "execution_count": 3,
   "metadata": {},
   "outputs": [
    {
     "data": {
      "text/plain": [
       "array([[ 41.42135624,   0.        , 180.        ,   0.        ],\n",
       "       [  0.        ,  41.42135624, 180.        ,   0.        ],\n",
       "       [  0.        ,   0.        ,   1.        ,   0.        ]])"
      ]
     },
     "execution_count": 3,
     "metadata": {},
     "output_type": "execute_result"
    }
   ],
   "source": [
    "proj_mat = np.hstack((cam_int, np.zeros((3,1))))\n",
    "proj_mat"
   ]
  },
  {
   "cell_type": "code",
   "execution_count": 4,
   "metadata": {},
   "outputs": [
    {
     "data": {
      "text/plain": [
       "array([[434.55844123,   0.        , 180.        ],\n",
       "       [  0.        , 434.55844123, 180.        ],\n",
       "       [  0.        ,   0.        ,   1.        ]])"
      ]
     },
     "execution_count": 4,
     "metadata": {},
     "output_type": "execute_result"
    }
   ],
   "source": [
    "proj_int = np.array([[360/(2*np.tan(45*np.pi/360)) , 0, 360/2],\n",
    "                     [0, 360/(2*np.tan(45*np.pi/360)), 360/2],\n",
    "                     [0, 0, 1]])\n",
    "proj_int"
   ]
  },
  {
   "cell_type": "code",
   "execution_count": null,
   "metadata": {},
   "outputs": [],
   "source": []
  },
  {
   "cell_type": "code",
   "execution_count": 7,
   "metadata": {},
   "outputs": [
    {
     "data": {
      "text/plain": [
       "array([[4.29317363e+04, 0.00000000e+00, 1.86742984e+05],\n",
       "       [0.00000000e+00, 4.29317363e+04, 1.86742984e+05],\n",
       "       [0.00000000e+00, 0.00000000e+00, 1.00000000e+00]])"
      ]
     },
     "execution_count": 7,
     "metadata": {},
     "output_type": "execute_result"
    }
   ],
   "source": [
    "# Get the rotation matrix from the camera transformation matrix\n",
    "cam_transform = mi.ScalarTransform4f.look_at(\n",
    "    origin=[0.03, 0, -0.7],\n",
    "    target=[0.03, 1, -15],\n",
    "    up=[0, 0, 1]\n",
    ")\n",
    "cam_to_world = np.array(cam_transform.matrix)\n",
    "cam_rot_vec, _ = cv2.Rodrigues(cam_to_world[:3, :3])\n",
    "cam_rot_mat = np.array(cam_rot_vec)\n",
    "\n",
    "# Define the proj_dist and proj_int matrices\n",
    "proj_dist = np.zeros((4, 1))\n",
    "\n",
    "proj =  mi.ScalarTransform4f.look_at(\n",
    "            origin=[-0.03, 0.1, -0.7],\n",
    "            target=[-0.03, -0.1, -15],\n",
    "            up=[0, 0, 1]\n",
    "        )\n",
    "\n",
    "proj_int = np.array([[1036.4638, 0, 179.5], [0, 1036.4638, 179.5], [0, 0, 1]])\n",
    "# Compute the cam_proj_rmat matrix\n",
    "# cam_proj_rmat = np.dot(proj_int, np.hstack((cam_rot_mat, -np.dot(cam_rot_mat, cam_to_world[:3, 3].reshape(-1,1)))))\n",
    "\n",
    "\n",
    "cam_proj_rmat = np.dot(proj_int, cam_to_world[:3, :3])\n",
    "cam_proj_rmat = np.dot(proj_int, cam_int)\n",
    "\n",
    "cam_proj_rmat\n",
    "\n",
    "##50mm\n",
    "##snesor sensor_size = (2 * 50mm * tan(45/2 degrees))\n",
    "\n",
    "\n",
    "\n"
   ]
  },
  {
   "cell_type": "code",
   "execution_count": 17,
   "metadata": {},
   "outputs": [
    {
     "data": {
      "text/plain": [
       "array([ 4.41898352,  4.41898352, -1.        ])"
      ]
     },
     "execution_count": 17,
     "metadata": {},
     "output_type": "execute_result"
    }
   ],
   "source": [
    "u = 360\n",
    "v = 360\n",
    "point = np.array([u, v, 1])\n",
    "cam_int = np.array([[275.8, 0, 180], [0, 275.8, 180], [0, 0, 1]], dtype=np.float32)\n",
    "\n",
    "cam_proj_tvec = -np.linalg.inv(cam_proj_rmat) @ np.linalg.inv(cam_int) @ proj_int @ point\n",
    "cam_proj_tvec"
   ]
  },
  {
   "cell_type": "code",
   "execution_count": 18,
   "metadata": {},
   "outputs": [],
   "source": [
    "# mitsuba nmap, dmap\n",
    "# cam, proj 같은 높이, 같은 방향\n",
    "# cmap을 통해 확인"
   ]
  }
 ],
 "metadata": {
  "kernelspec": {
   "display_name": "main",
   "language": "python",
   "name": "python3"
  },
  "language_info": {
   "codemirror_mode": {
    "name": "ipython",
    "version": 3
   },
   "file_extension": ".py",
   "mimetype": "text/x-python",
   "name": "python",
   "nbconvert_exporter": "python",
   "pygments_lexer": "ipython3",
   "version": "3.9.16"
  },
  "orig_nbformat": 4
 },
 "nbformat": 4,
 "nbformat_minor": 2
}
