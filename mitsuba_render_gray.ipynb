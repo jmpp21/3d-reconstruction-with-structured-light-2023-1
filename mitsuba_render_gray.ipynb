{
 "cells": [
  {
   "cell_type": "code",
   "execution_count": 1,
   "metadata": {},
   "outputs": [],
   "source": [
    "import mitsuba as mi\n",
    "import drjit as dr\n",
    "import os\n",
    "import matplotlib.pyplot as plt\n",
    "from PIL import Image\n",
    "import numpy as np\n",
    "import random \n",
    "import imageio\n",
    "import cv2\n",
    "import numpy as np"
   ]
  },
  {
   "cell_type": "code",
   "execution_count": 2,
   "metadata": {},
   "outputs": [],
   "source": [
    "scene_path = os.path.join('', 'scenes') \n",
    "results_spatio_path = os.path.join('','results_spatio') \n",
    "mi.set_variant('scalar_rgb')\n",
    "texture_path = os.path.join(scene_path,'textures')\n",
    "\n",
    "tokki = os.path.join(scene_path,'meshes/bunny.ply')\n"
   ]
  },
  {
   "cell_type": "code",
   "execution_count": 3,
   "metadata": {},
   "outputs": [],
   "source": [
    "cam1 = mi.load_dict({\n",
    "'type': 'perspective',\n",
    "'fov': 45, #24.6 mm\n",
    "'to_world': mi.ScalarTransform4f.look_at(\n",
    "    origin=[0.03, 0, -0.7],  # increase the z-coordinate to move the camera farther away\n",
    "    target=[0.03, 1, -15],\n",
    "    up=[0, 0, 1]\n",
    "),\n",
    "'film2': {\n",
    "    'type': 'hdrfilm',\n",
    "    'width': 360,\n",
    "    'height': 360,\n",
    "}\n",
    "# 'distortion': [0, 0, 0, 0, 0]\n",
    "})"
   ]
  },
  {
   "cell_type": "code",
   "execution_count": 12,
   "metadata": {},
   "outputs": [
    {
     "name": "stderr",
     "output_type": "stream",
     "text": [
      "Lossy conversion from float32 to uint8. Range [0, 1]. Convert image to uint8 prior to saving to suppress this warning.\n",
      "Lossy conversion from float32 to uint8. Range [0.0, 4.978283882141113]. Convert image to uint8 prior to saving to suppress this warning.\n",
      "Lossy conversion from float32 to uint8. Range [0.0, 4.611562728881836]. Convert image to uint8 prior to saving to suppress this warning.\n",
      "Lossy conversion from float32 to uint8. Range [0.0, 4.978283882141113]. Convert image to uint8 prior to saving to suppress this warning.\n",
      "Lossy conversion from float32 to uint8. Range [0.0, 4.978283882141113]. Convert image to uint8 prior to saving to suppress this warning.\n",
      "Lossy conversion from float32 to uint8. Range [0.0, 4.621075630187988]. Convert image to uint8 prior to saving to suppress this warning.\n",
      "Lossy conversion from float32 to uint8. Range [0.0, 4.94192361831665]. Convert image to uint8 prior to saving to suppress this warning.\n",
      "Lossy conversion from float32 to uint8. Range [0.0, 4.9778361320495605]. Convert image to uint8 prior to saving to suppress this warning.\n",
      "Lossy conversion from float32 to uint8. Range [0.0, 4.978283882141113]. Convert image to uint8 prior to saving to suppress this warning.\n",
      "Lossy conversion from float32 to uint8. Range [0.0, 4.936171531677246]. Convert image to uint8 prior to saving to suppress this warning.\n",
      "Lossy conversion from float32 to uint8. Range [0.0, 4.915574073791504]. Convert image to uint8 prior to saving to suppress this warning.\n",
      "Lossy conversion from float32 to uint8. Range [0.0, 4.978283882141113]. Convert image to uint8 prior to saving to suppress this warning.\n",
      "Lossy conversion from float32 to uint8. Range [0.0, 4.932840824127197]. Convert image to uint8 prior to saving to suppress this warning.\n",
      "Lossy conversion from float32 to uint8. Range [0.0, 4.976957321166992]. Convert image to uint8 prior to saving to suppress this warning.\n",
      "Lossy conversion from float32 to uint8. Range [0.0, 4.934640884399414]. Convert image to uint8 prior to saving to suppress this warning.\n",
      "Lossy conversion from float32 to uint8. Range [0.0, 4.907811641693115]. Convert image to uint8 prior to saving to suppress this warning.\n",
      "Lossy conversion from float32 to uint8. Range [0.0, 4.549584865570068]. Convert image to uint8 prior to saving to suppress this warning.\n",
      "Lossy conversion from float32 to uint8. Range [0.0, 4.490338325500488]. Convert image to uint8 prior to saving to suppress this warning.\n",
      "Lossy conversion from float32 to uint8. Range [0, 1]. Convert image to uint8 prior to saving to suppress this warning.\n",
      "Lossy conversion from float32 to uint8. Range [0.0, 4.968855381011963]. Convert image to uint8 prior to saving to suppress this warning.\n",
      "Lossy conversion from float32 to uint8. Range [0.0, 3.0762269496917725]. Convert image to uint8 prior to saving to suppress this warning.\n",
      "Lossy conversion from float32 to uint8. Range [0.0, 4.968855381011963]. Convert image to uint8 prior to saving to suppress this warning.\n",
      "Lossy conversion from float32 to uint8. Range [0.0, 4.611562728881836]. Convert image to uint8 prior to saving to suppress this warning.\n",
      "Lossy conversion from float32 to uint8. Range [0.0, 4.968855381011963]. Convert image to uint8 prior to saving to suppress this warning.\n",
      "Lossy conversion from float32 to uint8. Range [0.0, 4.611562728881836]. Convert image to uint8 prior to saving to suppress this warning.\n",
      "Lossy conversion from float32 to uint8. Range [0.0, 4.978283882141113]. Convert image to uint8 prior to saving to suppress this warning.\n",
      "Lossy conversion from float32 to uint8. Range [0.0, 4.915579795837402]. Convert image to uint8 prior to saving to suppress this warning.\n",
      "Lossy conversion from float32 to uint8. Range [0.0, 4.968855381011963]. Convert image to uint8 prior to saving to suppress this warning.\n",
      "Lossy conversion from float32 to uint8. Range [0.0, 4.94192361831665]. Convert image to uint8 prior to saving to suppress this warning.\n",
      "Lossy conversion from float32 to uint8. Range [0.0, 4.978283882141113]. Convert image to uint8 prior to saving to suppress this warning.\n",
      "Lossy conversion from float32 to uint8. Range [0.0, 4.90918493270874]. Convert image to uint8 prior to saving to suppress this warning.\n",
      "Lossy conversion from float32 to uint8. Range [0.0, 4.968679428100586]. Convert image to uint8 prior to saving to suppress this warning.\n",
      "Lossy conversion from float32 to uint8. Range [0.0, 4.93398904800415]. Convert image to uint8 prior to saving to suppress this warning.\n",
      "Lossy conversion from float32 to uint8. Range [0.0, 4.851808071136475]. Convert image to uint8 prior to saving to suppress this warning.\n",
      "Lossy conversion from float32 to uint8. Range [0.0, 4.378144264221191]. Convert image to uint8 prior to saving to suppress this warning.\n",
      "Lossy conversion from float32 to uint8. Range [0.0, 4.37103271484375]. Convert image to uint8 prior to saving to suppress this warning.\n",
      "Lossy conversion from float32 to uint8. Range [0.0, 4.978283882141113]. Convert image to uint8 prior to saving to suppress this warning.\n",
      "Lossy conversion from float32 to uint8. Range [0, 1]. Convert image to uint8 prior to saving to suppress this warning.\n"
     ]
    }
   ],
   "source": [
    "import cgi, os\n",
    "files = os.listdir('dir/graycode_pattern/')\n",
    "\n",
    "for f in files:\n",
    "    s = \"dir/graycode_pattern/\"\n",
    "    s = s + f\n",
    "    scene1 = mi.load_dict({\n",
    "        'type':'scene',\n",
    "        'integrator': {'type': 'direct'},\n",
    "        'light': {\n",
    "            'type': 'projector',\n",
    "            'irradiance': {\n",
    "                'type': 'bitmap',\n",
    "                'filename': s, \n",
    "            },\n",
    "            'fov': 45,\n",
    "            'to_world': mi.ScalarTransform4f.look_at(\n",
    "                origin=[-0.03, 0.1, -0.7],\n",
    "                target=[-0.03, -0.1, -15],\n",
    "                up=[0, 0, 1]\n",
    "            )\n",
    "            },\n",
    "        'tok':{\n",
    "            'type': 'ply',\n",
    "            'filename': tokki,\n",
    "            'to_world': mi.ScalarTransform4f.translate([0, 0, -1]),\n",
    "            'bsdf': {\n",
    "                'type': 'diffuse',\n",
    "                'reflectance': {'type': 'rgb', 'value': [0.1, 0.2, 0.3]},\n",
    "            }\n",
    "        }\n",
    "    })\n",
    "\n",
    "    image = mi.render(scene=scene1, sensor=cam1, spp=64)\n",
    "    image = np.clip(image * 1000, 0, 1000).astype(np.uint8)\n",
    "    st = \"./results/resultfar_\" + f\n",
    "    # Save the image as a PNG file using imageio\n",
    "    imageio.imwrite(st, image)\n"
   ]
  },
  {
   "cell_type": "code",
   "execution_count": 5,
   "metadata": {},
   "outputs": [
    {
     "data": {
      "text/plain": [
       "array([[ 50,   0, 180],\n",
       "       [  0,  50, 180],\n",
       "       [  0,   0,   1]])"
      ]
     },
     "execution_count": 5,
     "metadata": {},
     "output_type": "execute_result"
    }
   ],
   "source": [
    "import numpy as np\n",
    "from math import tan, radians\n",
    "\n",
    "# Define the field of view in degrees\n",
    "FOV = 45.0\n",
    "\n",
    "# Define the focal length in mm\n",
    "\n",
    "f_x = 50\n",
    "f_y = 50\n",
    "c_x = 180\n",
    "c_y = 180\n",
    "\n",
    "cam_int = np.array([[f_x, 0, c_x],\n",
    "              [0, f_y, c_y],\n",
    "              [0, 0, 1]])\n",
    "cam_int"
   ]
  },
  {
   "cell_type": "code",
   "execution_count": 6,
   "metadata": {},
   "outputs": [
    {
     "data": {
      "text/plain": [
       "array([[ 50.,   0., 180.],\n",
       "       [  0.,  50., 180.],\n",
       "       [  0.,   0.,   1.]])"
      ]
     },
     "execution_count": 6,
     "metadata": {},
     "output_type": "execute_result"
    }
   ],
   "source": [
    "focal_length = 50\n",
    "image_width = 360\n",
    "image_height = 360\n",
    "\n",
    "f_x = focal_length\n",
    "f_y = focal_length\n",
    "x_0 = image_width / 2\n",
    "y_0 = image_height / 2\n",
    "s = 0\n",
    "\n",
    "proj_int = np.array([[f_x, s, x_0],\n",
    "                     [0, f_y, y_0],\n",
    "                     [0, 0, 1]])\n",
    "proj_int\n"
   ]
  },
  {
   "cell_type": "code",
   "execution_count": 7,
   "metadata": {},
   "outputs": [
    {
     "data": {
      "text/plain": [
       "array([[-1.        ,  0.        ,  0.        ],\n",
       "       [ 0.        , -0.99649071, -0.08370346],\n",
       "       [ 0.        , -0.08370346,  0.99649071]])"
      ]
     },
     "execution_count": 7,
     "metadata": {},
     "output_type": "execute_result"
    }
   ],
   "source": [
    "import numpy as np\n",
    "\n",
    "# Define the camera and projector positions and orientations\n",
    "cam_pos = np.array([0.03, 0, -0.7])\n",
    "cam_target = np.array([0.03, 1, -15])\n",
    "cam_up = np.array([0, 0, 1])\n",
    "\n",
    "proj_pos = np.array([-0.03, 0.1, -0.7])\n",
    "proj_target = np.array([-0.03, -0.1, -15])\n",
    "proj_up = np.array([0, 0, 1])\n",
    "\n",
    "# Compute the camera and projector axes\n",
    "cam_dir = cam_target - cam_pos\n",
    "cam_dir /= np.linalg.norm(cam_dir)\n",
    "\n",
    "cam_right = np.cross(cam_dir, cam_up)\n",
    "cam_right /= np.linalg.norm(cam_right)\n",
    "\n",
    "cam_up = np.cross(cam_right, cam_dir)\n",
    "\n",
    "proj_dir = proj_target - proj_pos\n",
    "proj_dir /= np.linalg.norm(proj_dir)\n",
    "\n",
    "proj_right = np.cross(proj_dir, proj_up)\n",
    "proj_right /= np.linalg.norm(proj_right)\n",
    "\n",
    "proj_up = np.cross(proj_right, proj_dir)\n",
    "\n",
    "# Build the camera and projector rotation matrices\n",
    "cam_proj_rmat = np.zeros((3, 3))\n",
    "cam_proj_rmat[:, 0] = cam_right\n",
    "cam_proj_rmat[:, 1] = cam_up\n",
    "cam_proj_rmat[:, 2] = cam_dir\n",
    "\n",
    "proj_cam_rmat = np.zeros((3, 3))\n",
    "proj_cam_rmat[:, 0] = proj_right\n",
    "proj_cam_rmat[:, 1] = proj_up\n",
    "proj_cam_rmat[:, 2] = proj_dir\n",
    "\n",
    "# Build the camera and projector translation vectors\n",
    "cam_trans = -cam_proj_rmat @ cam_pos\n",
    "proj_trans = -proj_cam_rmat @ proj_pos\n",
    "\n",
    "# Build the camera and projector extrinsic matrices\n",
    "cam_ext_mat = np.eye(4)\n",
    "cam_ext_mat[:3, :3] = cam_proj_rmat\n",
    "cam_ext_mat[:3, 3] = cam_trans\n",
    "\n",
    "proj_ext_mat = np.eye(4)\n",
    "proj_ext_mat[:3, :3] = proj_cam_rmat\n",
    "proj_ext_mat[:3, 3] = proj_trans\n",
    "\n",
    "cam_proj_rmat = np.linalg.inv(cam_ext_mat[:3, :3]) @ proj_ext_mat[:3, :3]\n",
    "\n",
    "cam_proj_rmat"
   ]
  },
  {
   "cell_type": "code",
   "execution_count": null,
   "metadata": {},
   "outputs": [],
   "source": []
  },
  {
   "cell_type": "code",
   "execution_count": 8,
   "metadata": {},
   "outputs": [
    {
     "data": {
      "text/plain": [
       "array([[2.50e+03, 0.00e+00, 9.18e+03],\n",
       "       [0.00e+00, 2.50e+03, 9.18e+03],\n",
       "       [0.00e+00, 0.00e+00, 1.00e+00]])"
      ]
     },
     "execution_count": 8,
     "metadata": {},
     "output_type": "execute_result"
    }
   ],
   "source": [
    "# Get the rotation matrix from the camera transformation matrix\n",
    "# import mitsuba as mi\n",
    "# cam_transform = mi.ScalarTransform4f.look_at(\n",
    "#     origin=[0.03, 0, -0.7],\n",
    "#     target=[0.03, 1, -15],\n",
    "#     up=[0, 0, 1]\n",
    "# )\n",
    "# cam_int = np.array([[322.6663776454747, 0, 180],\n",
    "#        [0, 322.6663776454747, 180],\n",
    "#        [0, 0.00e+00, 1]])\n",
    "# proj_int = cam_int\n",
    "# cam_to_world = np.array(cam_transform.matrix)\n",
    "# cam_rot_vec, _ = cv2.Rodrigues(cam_to_world[:3, :3])\n",
    "# cam_rot_mat = np.array(cam_rot_vec)\n",
    "\n",
    "# # Define the proj_dist and proj_int matrices\n",
    "# proj_dist = np.zeros((4, 1))\n",
    "\n",
    "# proj =  mi.ScalarTransform4f.look_at(\n",
    "#             origin=[-0.03, 0.1, -0.7],\n",
    "#             target=[-0.03, -0.1, -15],\n",
    "#             up=[0, 0, 1]\n",
    "#         )\n",
    "\n",
    "proj_int = np.array([[ 50.,   0., 180.],\n",
    "       [  0.,  50., 180.],\n",
    "       [  0.,   0.,   1.]])\n",
    "# Compute the cam_proj_rmat matrix\n",
    "# cam_proj_rmat = np.dot(proj_int, np.hstack((cam_rot_mat, -np.dot(cam_rot_mat, cam_to_world[:3, 3].reshape(-1,1)))))\n",
    "\n",
    "\n",
    "cam_proj_rmat = np.dot(proj_int, cam_int)\n",
    "\n",
    "cam_proj_rmat\n",
    "\n",
    "##50mm\n",
    "##snesor sensor_size = (2 * 50mm * tan(45/2 degrees))\n",
    "\n",
    "\n",
    "\n"
   ]
  },
  {
   "cell_type": "code",
   "execution_count": null,
   "metadata": {},
   "outputs": [],
   "source": []
  },
  {
   "cell_type": "code",
   "execution_count": 9,
   "metadata": {},
   "outputs": [
    {
     "data": {
      "text/plain": [
       "array([ 3.528,  3.528, -1.   ])"
      ]
     },
     "execution_count": 9,
     "metadata": {},
     "output_type": "execute_result"
    }
   ],
   "source": [
    "u = 360\n",
    "v = 360\n",
    "point = np.array([u, v, 1])\n",
    "cam_int = np.array([[322.6663776454747, 0, 180],\n",
    "       [0, 322.6663776454747, 180],\n",
    "       [0, 0.00e+00, 1]])\n",
    "proj_int = cam_int\n",
    "cam_proj_tvec = -np.linalg.inv(cam_proj_rmat) @ np.linalg.inv(cam_int) @ proj_int @ point\n",
    "cam_proj_tvec"
   ]
  },
  {
   "cell_type": "code",
   "execution_count": 10,
   "metadata": {},
   "outputs": [],
   "source": [
    "cam_int = np.array([[322.6663776454747, 0, 180],\n",
    "       [0, 322.6663776454747, 180],\n",
    "       [0, 0.00e+00, 1]])\n"
   ]
  },
  {
   "cell_type": "code",
   "execution_count": 11,
   "metadata": {},
   "outputs": [
    {
     "ename": "NameError",
     "evalue": "name 'params' is not defined",
     "output_type": "error",
     "traceback": [
      "\u001b[1;31m---------------------------------------------------------------------------\u001b[0m",
      "\u001b[1;31mNameError\u001b[0m                                 Traceback (most recent call last)",
      "Cell \u001b[1;32mIn[11], line 1\u001b[0m\n\u001b[1;32m----> 1\u001b[0m \u001b[39mprint\u001b[39m(params[\u001b[39m'\u001b[39m\u001b[39mPerspectiveCamera.to_world\u001b[39m\u001b[39m'\u001b[39m])\n",
      "\u001b[1;31mNameError\u001b[0m: name 'params' is not defined"
     ]
    }
   ],
   "source": [
    "print(params['PerspectiveCamera.to_world'])\n"
   ]
  },
  {
   "cell_type": "code",
   "execution_count": null,
   "metadata": {},
   "outputs": [],
   "source": []
  }
 ],
 "metadata": {
  "kernelspec": {
   "display_name": "main",
   "language": "python",
   "name": "python3"
  },
  "language_info": {
   "codemirror_mode": {
    "name": "ipython",
    "version": 3
   },
   "file_extension": ".py",
   "mimetype": "text/x-python",
   "name": "python",
   "nbconvert_exporter": "python",
   "pygments_lexer": "ipython3",
   "version": "3.9.16"
  },
  "orig_nbformat": 4
 },
 "nbformat": 4,
 "nbformat_minor": 2
}
