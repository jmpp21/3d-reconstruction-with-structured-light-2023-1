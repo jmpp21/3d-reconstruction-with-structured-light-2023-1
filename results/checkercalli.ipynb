{
 "cells": [
  {
   "cell_type": "code",
   "execution_count": null,
   "metadata": {},
   "outputs": [],
   "source": [
    "import cv2\n",
    "import numpy as np\n",
    "import os\n",
    "import glob\n",
    "# 체커보드의 차원 정의\n",
    "CHECKERBOARD = (6,9) # 체커보드 행과 열당 내부 코너 수\n",
    "criteria = (cv2.TERM_CRITERIA_EPS + cv2.TERM_CRITERIA_MAX_ITER, 30, 0.001)\n",
    "# 각 체커보드 이미지에 대한 3D 점 벡터를 저장할 벡터 생성\n",
    "objpoints = []\n",
    "# 각 체커보드 이미지에 대한 2D 점 벡터를 저장할 벡터 생성\n",
    "imgpoints = [] \n",
    "# 3D 점의 세계 좌표 정의\n",
    "objp = np.zeros((1, CHECKERBOARD[0] * CHECKERBOARD[1], 3), np.float32)\n",
    "objp[0,:,:2] = np.mgrid[0:CHECKERBOARD[0], 0:CHECKERBOARD[1]].T.reshape(-1, 2)\n",
    "prev_img_shape = None\n",
    "# 주어진 디렉터리에 저장된 개별 이미지의 경로 추출\n",
    "images = glob.glob('./images/*.jpg')\n",
    "for fname in images:\n",
    "    img = cv2.imread(fname)\n",
    "    # 그레이 스케일로 변환\n",
    "    gray = cv2.cvtColor(img,cv2.COLOR_BGR2GRAY)\n",
    "    # 체커보드 코너 찾기\n",
    "    # 이미지에서 원하는 개수의 코너가 발견되면 ret = true\n",
    "    ret, corners = cv2.findChessboardCorners(gray,\n",
    "                                             CHECKERBOARD,\n",
    "                                             cv2.CALIB_CB_ADAPTIVE_THRESH + cv2.CALIB_CB_FAST_CHECK + cv2.CALIB_CB_NORMALIZE_IMAGE)\n",
    "    # 원하는 개수의 코너가 감지되면,\n",
    "    # 픽셀 좌표 미세조정 -> 체커보드 이미지 표시\n",
    "    if ret == True:\n",
    "        objpoints.append(objp)\n",
    "        # 주어진 2D 점에 대한 픽셀 좌표 미세조정\n",
    "        corners2 = cv2.cornerSubPix(gray, corners, (11,11),(-1,-1), criteria)\n",
    "        imgpoints.append(corners2)\n",
    "        # 코너 그리기 및 표시\n",
    "        img = cv2.drawChessboardCorners(img, CHECKERBOARD, corners2, ret)\n",
    "    cv2.imshow('img',img)\n",
    "    cv2.waitKey(0)\n",
    "cv2.destroyAllWindows()\n",
    "h,w = img.shape[:2] # 480, 640\n",
    "# 알려진 3D 점(objpoints) 값과 감지된 코너의 해당 픽셀 좌표(imgpoints) 전달, 카메라 캘리브레이션 수행\n",
    "ret, mtx, dist, rvecs, tvecs = cv2.calibrateCamera(objpoints, imgpoints, gray.shape[::-1], None, None)"
   ]
  }
 ],
 "metadata": {
  "language_info": {
   "name": "python"
  },
  "orig_nbformat": 4
 },
 "nbformat": 4,
 "nbformat_minor": 2
}
