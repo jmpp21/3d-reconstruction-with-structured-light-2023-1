{
 "cells": [
  {
   "cell_type": "code",
   "execution_count": 1,
   "metadata": {},
   "outputs": [],
   "source": [
    "import mitsuba as mi\n",
    "import drjit as dr\n",
    "import os\n",
    "import matplotlib.pyplot as plt\n",
    "from PIL import Image\n",
    "import numpy as np\n",
    "import random "
   ]
  },
  {
   "cell_type": "code",
   "execution_count": 2,
   "metadata": {},
   "outputs": [
    {
     "data": {
      "text/plain": [
       "'scenes\\\\textures'"
      ]
     },
     "execution_count": 2,
     "metadata": {},
     "output_type": "execute_result"
    }
   ],
   "source": [
    "scene_path = os.path.join('', 'scenes') \n",
    "results_spatio_path = os.path.join('','results_spatio') \n",
    "mi.set_variant('scalar_rgb')\n",
    "texture_path = os.path.join(scene_path,'textures')\n",
    "texture_path"
   ]
  },
  {
   "cell_type": "code",
   "execution_count": 4,
   "metadata": {},
   "outputs": [
    {
     "ename": "RuntimeError",
     "evalue": "​[xml.cpp:1430] \"scenes\\cornell_box.xml\": file does not exist!",
     "output_type": "error",
     "traceback": [
      "\u001b[1;31m---------------------------------------------------------------------------\u001b[0m",
      "\u001b[1;31mRuntimeError\u001b[0m                              Traceback (most recent call last)",
      "Cell \u001b[1;32mIn[4], line 1\u001b[0m\n\u001b[1;32m----> 1\u001b[0m scene \u001b[39m=\u001b[39m mi\u001b[39m.\u001b[39;49mload_file(os\u001b[39m.\u001b[39;49mpath\u001b[39m.\u001b[39;49mjoin(scene_path, \u001b[39m'\u001b[39;49m\u001b[39mcornell_box.xml\u001b[39;49m\u001b[39m'\u001b[39;49m))\n\u001b[0;32m      3\u001b[0m original_image \u001b[39m=\u001b[39m mi\u001b[39m.\u001b[39mrender(scene, spp\u001b[39m=\u001b[39m\u001b[39m128\u001b[39m)\n\u001b[0;32m      4\u001b[0m plt\u001b[39m.\u001b[39maxis(\u001b[39m'\u001b[39m\u001b[39moff\u001b[39m\u001b[39m'\u001b[39m)\n",
      "\u001b[1;31mRuntimeError\u001b[0m: ​[xml.cpp:1430] \"scenes\\cornell_box.xml\": file does not exist!"
     ]
    }
   ],
   "source": [
    "scene = mi.load_file(os.path.join(scene_path, 'cornell_box.xml'))\n",
    "\n",
    "original_image = mi.render(scene, spp=128)\n",
    "plt.axis('off')\n",
    "plt.imshow(original_image ** (1.0 / 2.2))"
   ]
  },
  {
   "cell_type": "code",
   "execution_count": null,
   "metadata": {},
   "outputs": [],
   "source": []
  }
 ],
 "metadata": {
  "kernelspec": {
   "display_name": "main",
   "language": "python",
   "name": "python3"
  },
  "language_info": {
   "codemirror_mode": {
    "name": "ipython",
    "version": 3
   },
   "file_extension": ".py",
   "mimetype": "text/x-python",
   "name": "python",
   "nbconvert_exporter": "python",
   "pygments_lexer": "ipython3",
   "version": "3.9.16"
  },
  "orig_nbformat": 4
 },
 "nbformat": 4,
 "nbformat_minor": 2
}
