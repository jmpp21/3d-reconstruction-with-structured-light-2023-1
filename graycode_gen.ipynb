{
 "cells": [
  {
   "cell_type": "code",
   "execution_count": 1,
   "metadata": {},
   "outputs": [
    {
     "ename": "FileNotFoundError",
     "evalue": "[WinError 3] 지정된 경로를 찾을 수 없습니다: './dir/graycode_pattern'",
     "output_type": "error",
     "traceback": [
      "\u001b[1;31m---------------------------------------------------------------------------\u001b[0m",
      "\u001b[1;31mFileNotFoundError\u001b[0m                         Traceback (most recent call last)",
      "Cell \u001b[1;32mIn[1], line 69\u001b[0m\n\u001b[0;32m     65\u001b[0m     \u001b[39mprint\u001b[39m()\n\u001b[0;32m     68\u001b[0m \u001b[39mif\u001b[39;00m \u001b[39m__name__\u001b[39m \u001b[39m==\u001b[39m \u001b[39m'\u001b[39m\u001b[39m__main__\u001b[39m\u001b[39m'\u001b[39m:\n\u001b[1;32m---> 69\u001b[0m     main()\n",
      "Cell \u001b[1;32mIn[1], line 39\u001b[0m, in \u001b[0;36mmain\u001b[1;34m()\u001b[0m\n\u001b[0;32m     36\u001b[0m exp_patterns\u001b[39m.\u001b[39mappend(np\u001b[39m.\u001b[39mzeros((height, width), np\u001b[39m.\u001b[39muint8))     \u001b[39m# black\u001b[39;00m\n\u001b[0;32m     38\u001b[0m \u001b[39mif\u001b[39;00m \u001b[39mnot\u001b[39;00m os\u001b[39m.\u001b[39mpath\u001b[39m.\u001b[39mexists(TARGETDIR):\n\u001b[1;32m---> 39\u001b[0m     os\u001b[39m.\u001b[39;49mmkdir(TARGETDIR)\n\u001b[0;32m     41\u001b[0m \u001b[39mfor\u001b[39;00m i, pat \u001b[39min\u001b[39;00m \u001b[39menumerate\u001b[39m(exp_patterns):\n\u001b[0;32m     42\u001b[0m     cv2\u001b[39m.\u001b[39mimwrite(TARGETDIR \u001b[39m+\u001b[39m \u001b[39m'\u001b[39m\u001b[39m/pattern_\u001b[39m\u001b[39m'\u001b[39m \u001b[39m+\u001b[39m \u001b[39mstr\u001b[39m(i)\u001b[39m.\u001b[39mzfill(\u001b[39m2\u001b[39m) \u001b[39m+\u001b[39m \u001b[39m'\u001b[39m\u001b[39m.png\u001b[39m\u001b[39m'\u001b[39m, pat)\n",
      "\u001b[1;31mFileNotFoundError\u001b[0m: [WinError 3] 지정된 경로를 찾을 수 없습니다: './dir/graycode_pattern'"
     ]
    }
   ],
   "source": [
    "#coding: UTF-8\n",
    "\n",
    "import os\n",
    "import os.path\n",
    "import cv2\n",
    "import numpy as np\n",
    "\n",
    "TARGETDIR = './dir/graycode_pattern'\n",
    "CAPTUREDDIR = './capture_*'\n",
    "\n",
    "\n",
    "def main():\n",
    "\n",
    "    step = 1\n",
    "    height = 360\n",
    "    width = 360\n",
    "    gc_height = int((height-1)/step)+1\n",
    "    gc_width = int((width-1)/step)+1\n",
    "\n",
    "    graycode = cv2.structured_light_GrayCodePattern.create(gc_width, gc_height)\n",
    "    # graycode = cv2.structured_light.GrayCodePattern.create(gc_width, gc_height)\n",
    "    \n",
    "    patterns = graycode.generate()[1]\n",
    "    \n",
    "    # cv2.pattern\n",
    "    # expand image size\n",
    "    exp_patterns = []\n",
    "    for pat in patterns:\n",
    "        img = np.zeros((height, width), np.uint8)\n",
    "        for y in range(height):\n",
    "            for x in range(width):\n",
    "                img[y, x] = pat[int(y/step), int(x/step)]\n",
    "        exp_patterns.append(img)\n",
    "\n",
    "    exp_patterns.append(255*np.ones((height, width), np.uint8))  # white\n",
    "    exp_patterns.append(np.zeros((height, width), np.uint8))     # black\n",
    "\n",
    "    if not os.path.exists(TARGETDIR):\n",
    "        os.mkdir(TARGETDIR)\n",
    "\n",
    "    for i, pat in enumerate(exp_patterns):\n",
    "        cv2.imwrite(TARGETDIR + '/pattern_' + str(i).zfill(2) + '.png', pat)\n",
    "\n",
    "    print('=== Result ===')\n",
    "    print('\\'' + TARGETDIR + '/pattern_00.png ~ pattern_' +\n",
    "          str(len(exp_patterns)-1) + '.png \\' were generated')\n",
    "    print()\n",
    "    print('=== Next step ===')\n",
    "    print('Project patterns and save captured images as \\'' +\n",
    "          CAPTUREDDIR + '/graycode_*.png\\'')\n",
    "    print()\n",
    "    print(\n",
    "        '    ./ --- capture_1/ --- graycode_00.png\\n'\n",
    "        '        |              |- graycode_01.png\\n'\n",
    "        '        |              |        .\\n'\n",
    "        '        |              |        .\\n'\n",
    "        '        |              |- graycode_' +\n",
    "        str(len(exp_patterns)-1) + '.png\\n'\n",
    "        '        |- capture_2/ --- graycode_00.png\\n'\n",
    "        '        |              |- graycode_01.png\\n'\n",
    "        '        |      .       |        .\\n'\n",
    "        '        |      .       |        .\\n')\n",
    "    print()\n",
    "    print('It is recommended to capture more than 5 times')\n",
    "    print()\n",
    "\n",
    "\n",
    "if __name__ == '__main__':\n",
    "    main()"
   ]
  },
  {
   "cell_type": "code",
   "execution_count": null,
   "metadata": {},
   "outputs": [],
   "source": []
  }
 ],
 "metadata": {
  "kernelspec": {
   "display_name": "main",
   "language": "python",
   "name": "python3"
  },
  "language_info": {
   "codemirror_mode": {
    "name": "ipython",
    "version": 3
   },
   "file_extension": ".py",
   "mimetype": "text/x-python",
   "name": "python",
   "nbconvert_exporter": "python",
   "pygments_lexer": "ipython3",
   "version": "3.9.16"
  },
  "orig_nbformat": 4
 },
 "nbformat": 4,
 "nbformat_minor": 2
}
