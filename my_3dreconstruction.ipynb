{
 "cells": [
  {
   "cell_type": "code",
   "execution_count": 1,
   "metadata": {},
   "outputs": [],
   "source": [
    "import numpy as np\n",
    "import cv2\n",
    "import os\n",
    "import matplotlib.pyplot as plt\n",
    "from scipy import ndimage\n",
    "from scipy.io import savemat"
   ]
  },
  {
   "cell_type": "code",
   "execution_count": null,
   "metadata": {},
   "outputs": [],
   "source": [
    "gamma = 1.5\n",
    "res_path = '/project/'  \n",
    "dat_path = 'result'\n",
    "scene_name = 'bunny'\n",
    "gamma_diag = 2.2"
   ]
  },
  {
   "cell_type": "code",
   "execution_count": null,
   "metadata": {},
   "outputs": [],
   "source": [
    "def norm_im(im, blk, wht):\n",
    "    im = (im - blk)/(wht - blk)\n",
    "    im[im<0] = 0\n",
    "    im[im>1] = 1\n",
    "    return im"
   ]
  },
  {
   "cell_type": "code",
   "execution_count": null,
   "metadata": {},
   "outputs": [],
   "source": [
    "blk_lev = 0.065\n",
    "wht_lev = 0.5\n",
    "gamma_vis = 2.2\n",
    "R = 1024\n",
    "C = 1024\n",
    "\n",
    "im_gc = 1*cv2.imread(os.path.join(dat_path, 'result_pattern_13.png'))/255\n",
    "im_gc = cv2.resize(im_gc, (C,R))\n",
    "im_gc_vis = norm_im(im_gc, blk_lev, wht_lev)\n",
    "im_gc_vis = im_gc_vis**(1/gamma_vis)\n",
    "plt.imshow(im_gc_vis[...,::-1])\n",
    "plt.title('gc image')\n",
    "plt.show()\n",
    "cv2.imwrite(os.path.join(res_path, 'im_gc.png'), 256*(im_gc**(1/gamma_vis)))\n",
    "cv2.imwrite('im_gc.png', 256*(im_gc_vis))"
   ]
  }
 ],
 "metadata": {
  "kernelspec": {
   "display_name": "main",
   "language": "python",
   "name": "python3"
  },
  "language_info": {
   "codemirror_mode": {
    "name": "ipython",
    "version": 3
   },
   "file_extension": ".py",
   "mimetype": "text/x-python",
   "name": "python",
   "nbconvert_exporter": "python",
   "pygments_lexer": "ipython3",
   "version": "3.9.16"
  },
  "orig_nbformat": 4
 },
 "nbformat": 4,
 "nbformat_minor": 2
}
