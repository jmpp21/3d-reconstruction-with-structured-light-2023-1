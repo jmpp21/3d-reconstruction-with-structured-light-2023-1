{
 "cells": [
  {
   "cell_type": "code",
   "execution_count": 7,
   "metadata": {},
   "outputs": [
    {
     "data": {
      "text/plain": [
       "'checkerboard.png'"
      ]
     },
     "execution_count": 7,
     "metadata": {},
     "output_type": "execute_result"
    }
   ],
   "source": [
    "import numpy as np\n",
    "import matplotlib.pyplot as plt\n",
    "\n",
    "rows = 8  # number of rows of squares\n",
    "cols = 6  # number of columns of squares\n",
    "square_size = 50  # size of each square in pixels\n",
    "\n",
    "checkerboard = np.zeros((rows * square_size, cols * square_size), dtype=np.uint8)\n",
    "for i in range(rows):\n",
    "    for j in range(cols):\n",
    "        if (i + j) % 2 == 1:  # Condition to alternate the colors\n",
    "            checkerboard[i * square_size: (i + 1) * square_size, j * square_size: (j + 1) * square_size] = 255\n",
    "\n",
    "\n",
    "checkerboard_path = \"checkerboard.png\"\n",
    "plt.imsave(checkerboard_path, checkerboard, cmap='gray')\n",
    "\n",
    "checkerboard_path\n"
   ]
  },
  {
   "cell_type": "code",
   "execution_count": 5,
   "metadata": {},
   "outputs": [
    {
     "name": "stdout",
     "output_type": "stream",
     "text": [
      "b'patchsize\\x92\\xcd\\x01@\\xcd\\x02\\x00\\xabnum_classes\\x05\\xadtraining_type\\xa2PC\\xb4inference_time_level\\x00\\xb2search_space_level\\x01\\xaequick_backbone\\xa0\\xbboptimize_training_time_flag\\xc3\\xb4mixed_precision_flag\\xc3\\xadretrain_speed\\xc2\\xaatime_limit\\xff\\xa8backbone\\xa2NT\\xaabatch_size\\xfe\\xa5epoch\\xfe\\xa8patience\\xfe\\xacdecay_method\\xa2NT\\xa7init_lr\\xca\\xc0\\x00\\x00\\x00\\xaadecay_step\\xfe\\xaadecay_rate\\xca\\xc0\\x00\\x00\\x00\\xa9optimizer\\xa2NT\\xabresize_flag\\xc3\\xabinput_width\\xcd\\x02\\x00\\xacinput_height\\xcd\\x01@\\xadclassset_flag\\x00\\xacscale_factor\\xca?\\x80\\x00\\x00\\xadresize_method\\xa6LINEAR\\xaaclassitems\\x95\\x83\\xa3idx\\x00\\xa4dbid\\x00\\xa4name\\xc4'\n"
     ]
    }
   ],
   "source": []
  },
  {
   "cell_type": "code",
   "execution_count": null,
   "metadata": {},
   "outputs": [],
   "source": []
  }
 ],
 "metadata": {
  "kernelspec": {
   "display_name": "Python 3",
   "language": "python",
   "name": "python3"
  },
  "language_info": {
   "codemirror_mode": {
    "name": "ipython",
    "version": 3
   },
   "file_extension": ".py",
   "mimetype": "text/x-python",
   "name": "python",
   "nbconvert_exporter": "python",
   "pygments_lexer": "ipython3",
   "version": "3.11.2"
  },
  "orig_nbformat": 4
 },
 "nbformat": 4,
 "nbformat_minor": 2
}
